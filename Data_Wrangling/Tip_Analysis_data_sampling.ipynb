{
 "cells": [
  {
   "cell_type": "code",
   "execution_count": 2,
   "metadata": {},
   "outputs": [],
   "source": [
    "import pandas as pd\n",
    "import numpy as np\n"
   ]
  },
  {
   "cell_type": "code",
   "execution_count": 3,
   "metadata": {},
   "outputs": [],
   "source": [
    "#read in the edited taxi data\n",
    "chunklist = []\n",
    "for chunk in pd.read_csv('data_merged_all.csv', chunksize = 100000):\n",
    "    chunklist.append(chunk)"
   ]
  },
  {
   "cell_type": "code",
   "execution_count": 6,
   "metadata": {},
   "outputs": [
    {
     "name": "stdout",
     "output_type": "stream",
     "text": [
      "CPU times: user 1min 15s, sys: 3min 5s, total: 4min 21s\n",
      "Wall time: 6min 16s\n"
     ]
    }
   ],
   "source": [
    "%%time\n",
    "df_rain_list = []\n",
    "df_snow_list = []\n",
    "df_clear_list = []\n",
    "for chunk in chunklist:\n",
    "    df_rain_list.append(chunk[chunk.rain == 1].sample(frac = 0.1))\n",
    "    df_snow_list.append(chunk[chunk.snow == 1].sample(frac = 0.1))\n",
    "    df_clear_list.append(chunk[(chunk.rain == 0) & (chunk.snow == 0)].sample(frac = 0.1))\n",
    "    \n",
    "df_rain = pd.concat(df_rain_list)\n",
    "df_snow = pd.concat(df_snow_list)\n",
    "df_clear = pd.concat(df_clear_list)\n",
    "df_strat_sample = pd.concat([df_rain, df_snow, df_clear])\n",
    "    "
   ]
  },
  {
   "cell_type": "code",
   "execution_count": 7,
   "metadata": {},
   "outputs": [],
   "source": [
    "df_strat_sample.to_csv('data_strat_sample.csv', index = False)"
   ]
  },
  {
   "cell_type": "code",
   "execution_count": null,
   "metadata": {},
   "outputs": [],
   "source": []
  }
 ],
 "metadata": {
  "kernelspec": {
   "display_name": "Python 3",
   "language": "python",
   "name": "python3"
  },
  "language_info": {
   "codemirror_mode": {
    "name": "ipython",
    "version": 3
   },
   "file_extension": ".py",
   "mimetype": "text/x-python",
   "name": "python",
   "nbconvert_exporter": "python",
   "pygments_lexer": "ipython3",
   "version": "3.7.3"
  }
 },
 "nbformat": 4,
 "nbformat_minor": 2
}
