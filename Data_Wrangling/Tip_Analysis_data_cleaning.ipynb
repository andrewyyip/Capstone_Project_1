{
 "cells": [
  {
   "cell_type": "code",
   "execution_count": 1,
   "metadata": {},
   "outputs": [],
   "source": [
    "import pandas as pd\n",
    "import numpy as np\n",
    "import matplotlib.pyplot as plt\n",
    "import seaborn as sns"
   ]
  },
  {
   "cell_type": "code",
   "execution_count": 2,
   "metadata": {},
   "outputs": [
    {
     "name": "stdout",
     "output_type": "stream",
     "text": [
      "CPU times: user 42.1 s, sys: 13.7 s, total: 55.8 s\n",
      "Wall time: 57.6 s\n"
     ]
    }
   ],
   "source": [
    "%%time\n",
    "chunklist = []\n",
    "for chunk in pd.read_csv('data_strat_sample.csv', chunksize = 100000):\n",
    "    chunklist.append(chunk)\n",
    "\n",
    "df = pd.concat(chunklist)\n"
   ]
  },
  {
   "cell_type": "code",
   "execution_count": 3,
   "metadata": {},
   "outputs": [
    {
     "data": {
      "text/plain": [
       "Index(['VendorID', 'pickup', 'tpep_dropoff_datetime', 'passenger_count',\n",
       "       'trip_distance', 'pickup_longitude', 'pickup_latitude', 'RatecodeID',\n",
       "       'store_and_fwd_flag', 'dropoff_longitude', 'dropoff_latitude',\n",
       "       'payment_type', 'fare_amount', 'extra', 'mta_tax', 'tip_amount',\n",
       "       'tolls_amount', 'improvement_surcharge', 'total_amount', 'PULocationID',\n",
       "       'DOLocationID', 'tempm', 'dewptm', 'hum', 'wspdi', 'wgusti', 'visi',\n",
       "       'pressurem', 'windchillm', 'heatindexm', 'precipm', 'conds', 'fog',\n",
       "       'rain', 'snow', 'hail', 'thunder', 'tornado'],\n",
       "      dtype='object')"
      ]
     },
     "execution_count": 3,
     "metadata": {},
     "output_type": "execute_result"
    }
   ],
   "source": [
    "df.columns"
   ]
  },
  {
   "cell_type": "code",
   "execution_count": 4,
   "metadata": {},
   "outputs": [],
   "source": [
    "df['pickup'] = pd.to_datetime(df.pickup)\n",
    "df['tpep_dropoff_datetime'] = pd.to_datetime(df.tpep_dropoff_datetime)"
   ]
  },
  {
   "cell_type": "code",
   "execution_count": 5,
   "metadata": {},
   "outputs": [],
   "source": [
    "df['trip_time'] = df.tpep_dropoff_datetime - df.pickup"
   ]
  },
  {
   "cell_type": "code",
   "execution_count": 6,
   "metadata": {},
   "outputs": [],
   "source": [
    "df['trip_time'] = df.trip_time.dt.total_seconds() / 3600"
   ]
  },
  {
   "cell_type": "code",
   "execution_count": 7,
   "metadata": {},
   "outputs": [
    {
     "data": {
      "text/plain": [
       "count    6.108450e+06\n",
       "mean     2.366994e-01\n",
       "std      2.637137e+00\n",
       "min     -1.825355e+03\n",
       "25%      1.105556e-01\n",
       "50%      1.858333e-01\n",
       "75%      3.033333e-01\n",
       "max      3.157866e+03\n",
       "Name: trip_time, dtype: float64"
      ]
     },
     "execution_count": 7,
     "metadata": {},
     "output_type": "execute_result"
    }
   ],
   "source": [
    "df['trip_time'].describe()"
   ]
  },
  {
   "cell_type": "code",
   "execution_count": 8,
   "metadata": {},
   "outputs": [
    {
     "data": {
      "text/plain": [
       "count    6.108450e+06\n",
       "mean     3.415695e+00\n",
       "std      6.977148e+02\n",
       "min      0.000000e+00\n",
       "25%      1.000000e+00\n",
       "50%      1.700000e+00\n",
       "75%      3.100000e+00\n",
       "max      1.587540e+06\n",
       "Name: trip_distance, dtype: float64"
      ]
     },
     "execution_count": 8,
     "metadata": {},
     "output_type": "execute_result"
    }
   ],
   "source": [
    "df.trip_distance.describe()"
   ]
  },
  {
   "cell_type": "code",
   "execution_count": 9,
   "metadata": {},
   "outputs": [],
   "source": [
    "df['avg_speed'] = df.trip_distance / df.trip_time"
   ]
  },
  {
   "cell_type": "code",
   "execution_count": 10,
   "metadata": {},
   "outputs": [
    {
     "data": {
      "text/plain": [
       "count    6.094938e+06\n",
       "mean              inf\n",
       "std               NaN\n",
       "min     -1.809000e+03\n",
       "25%      7.309645e+00\n",
       "50%      1.005587e+01\n",
       "75%      1.381663e+01\n",
       "max               inf\n",
       "Name: avg_speed, dtype: float64"
      ]
     },
     "execution_count": 10,
     "metadata": {},
     "output_type": "execute_result"
    }
   ],
   "source": [
    "df.avg_speed.describe()"
   ]
  },
  {
   "cell_type": "code",
   "execution_count": 11,
   "metadata": {},
   "outputs": [
    {
     "data": {
      "text/html": [
       "<div>\n",
       "<style scoped>\n",
       "    .dataframe tbody tr th:only-of-type {\n",
       "        vertical-align: middle;\n",
       "    }\n",
       "\n",
       "    .dataframe tbody tr th {\n",
       "        vertical-align: top;\n",
       "    }\n",
       "\n",
       "    .dataframe thead th {\n",
       "        text-align: right;\n",
       "    }\n",
       "</style>\n",
       "<table border=\"1\" class=\"dataframe\">\n",
       "  <thead>\n",
       "    <tr style=\"text-align: right;\">\n",
       "      <th></th>\n",
       "      <th>VendorID</th>\n",
       "      <th>pickup</th>\n",
       "      <th>tpep_dropoff_datetime</th>\n",
       "      <th>passenger_count</th>\n",
       "      <th>trip_distance</th>\n",
       "      <th>pickup_longitude</th>\n",
       "      <th>pickup_latitude</th>\n",
       "      <th>RatecodeID</th>\n",
       "      <th>store_and_fwd_flag</th>\n",
       "      <th>dropoff_longitude</th>\n",
       "      <th>...</th>\n",
       "      <th>precipm</th>\n",
       "      <th>conds</th>\n",
       "      <th>fog</th>\n",
       "      <th>rain</th>\n",
       "      <th>snow</th>\n",
       "      <th>hail</th>\n",
       "      <th>thunder</th>\n",
       "      <th>tornado</th>\n",
       "      <th>trip_time</th>\n",
       "      <th>avg_speed</th>\n",
       "    </tr>\n",
       "  </thead>\n",
       "  <tbody>\n",
       "    <tr>\n",
       "      <td>14799</td>\n",
       "      <td>1</td>\n",
       "      <td>2016-02-03 13:57:44</td>\n",
       "      <td>2016-02-03 13:57:44</td>\n",
       "      <td>1</td>\n",
       "      <td>2.5</td>\n",
       "      <td>-73.958679</td>\n",
       "      <td>40.780861</td>\n",
       "      <td>1</td>\n",
       "      <td>Y</td>\n",
       "      <td>-73.958679</td>\n",
       "      <td>...</td>\n",
       "      <td>2.3</td>\n",
       "      <td>Light Rain</td>\n",
       "      <td>0</td>\n",
       "      <td>1</td>\n",
       "      <td>0</td>\n",
       "      <td>0</td>\n",
       "      <td>0</td>\n",
       "      <td>0</td>\n",
       "      <td>0.0</td>\n",
       "      <td>inf</td>\n",
       "    </tr>\n",
       "    <tr>\n",
       "      <td>17903</td>\n",
       "      <td>1</td>\n",
       "      <td>2016-02-05 01:41:42</td>\n",
       "      <td>2016-02-05 01:41:42</td>\n",
       "      <td>1</td>\n",
       "      <td>0.7</td>\n",
       "      <td>-74.003883</td>\n",
       "      <td>40.742310</td>\n",
       "      <td>1</td>\n",
       "      <td>N</td>\n",
       "      <td>-74.003883</td>\n",
       "      <td>...</td>\n",
       "      <td>0.0</td>\n",
       "      <td>Light Rain</td>\n",
       "      <td>0</td>\n",
       "      <td>1</td>\n",
       "      <td>0</td>\n",
       "      <td>0</td>\n",
       "      <td>0</td>\n",
       "      <td>0</td>\n",
       "      <td>0.0</td>\n",
       "      <td>inf</td>\n",
       "    </tr>\n",
       "    <tr>\n",
       "      <td>62433</td>\n",
       "      <td>1</td>\n",
       "      <td>2016-04-02 10:57:03</td>\n",
       "      <td>2016-04-02 10:57:03</td>\n",
       "      <td>1</td>\n",
       "      <td>22.8</td>\n",
       "      <td>-74.004288</td>\n",
       "      <td>40.721195</td>\n",
       "      <td>1</td>\n",
       "      <td>N</td>\n",
       "      <td>-74.004288</td>\n",
       "      <td>...</td>\n",
       "      <td>1.3</td>\n",
       "      <td>Light Rain</td>\n",
       "      <td>0</td>\n",
       "      <td>1</td>\n",
       "      <td>0</td>\n",
       "      <td>0</td>\n",
       "      <td>0</td>\n",
       "      <td>0</td>\n",
       "      <td>0.0</td>\n",
       "      <td>inf</td>\n",
       "    </tr>\n",
       "    <tr>\n",
       "      <td>379757</td>\n",
       "      <td>1</td>\n",
       "      <td>2016-01-05 14:35:57</td>\n",
       "      <td>2016-01-05 14:35:57</td>\n",
       "      <td>1</td>\n",
       "      <td>2.2</td>\n",
       "      <td>-74.004387</td>\n",
       "      <td>40.741909</td>\n",
       "      <td>1</td>\n",
       "      <td>Y</td>\n",
       "      <td>-74.004387</td>\n",
       "      <td>...</td>\n",
       "      <td>NaN</td>\n",
       "      <td>Clear</td>\n",
       "      <td>0</td>\n",
       "      <td>0</td>\n",
       "      <td>0</td>\n",
       "      <td>0</td>\n",
       "      <td>0</td>\n",
       "      <td>0</td>\n",
       "      <td>0.0</td>\n",
       "      <td>inf</td>\n",
       "    </tr>\n",
       "    <tr>\n",
       "      <td>388824</td>\n",
       "      <td>1</td>\n",
       "      <td>2016-01-05 20:50:19</td>\n",
       "      <td>2016-01-05 20:50:19</td>\n",
       "      <td>1</td>\n",
       "      <td>4.5</td>\n",
       "      <td>-73.964493</td>\n",
       "      <td>40.770348</td>\n",
       "      <td>1</td>\n",
       "      <td>N</td>\n",
       "      <td>-73.964493</td>\n",
       "      <td>...</td>\n",
       "      <td>NaN</td>\n",
       "      <td>Clear</td>\n",
       "      <td>0</td>\n",
       "      <td>0</td>\n",
       "      <td>0</td>\n",
       "      <td>0</td>\n",
       "      <td>0</td>\n",
       "      <td>0</td>\n",
       "      <td>0.0</td>\n",
       "      <td>inf</td>\n",
       "    </tr>\n",
       "  </tbody>\n",
       "</table>\n",
       "<p>5 rows × 40 columns</p>\n",
       "</div>"
      ],
      "text/plain": [
       "        VendorID              pickup tpep_dropoff_datetime  passenger_count  \\\n",
       "14799          1 2016-02-03 13:57:44   2016-02-03 13:57:44                1   \n",
       "17903          1 2016-02-05 01:41:42   2016-02-05 01:41:42                1   \n",
       "62433          1 2016-04-02 10:57:03   2016-04-02 10:57:03                1   \n",
       "379757         1 2016-01-05 14:35:57   2016-01-05 14:35:57                1   \n",
       "388824         1 2016-01-05 20:50:19   2016-01-05 20:50:19                1   \n",
       "\n",
       "        trip_distance  pickup_longitude  pickup_latitude  RatecodeID  \\\n",
       "14799             2.5        -73.958679        40.780861           1   \n",
       "17903             0.7        -74.003883        40.742310           1   \n",
       "62433            22.8        -74.004288        40.721195           1   \n",
       "379757            2.2        -74.004387        40.741909           1   \n",
       "388824            4.5        -73.964493        40.770348           1   \n",
       "\n",
       "       store_and_fwd_flag  dropoff_longitude  ...  precipm       conds  fog  \\\n",
       "14799                   Y         -73.958679  ...      2.3  Light Rain    0   \n",
       "17903                   N         -74.003883  ...      0.0  Light Rain    0   \n",
       "62433                   N         -74.004288  ...      1.3  Light Rain    0   \n",
       "379757                  Y         -74.004387  ...      NaN       Clear    0   \n",
       "388824                  N         -73.964493  ...      NaN       Clear    0   \n",
       "\n",
       "        rain  snow  hail  thunder  tornado  trip_time  avg_speed  \n",
       "14799      1     0     0        0        0        0.0        inf  \n",
       "17903      1     0     0        0        0        0.0        inf  \n",
       "62433      1     0     0        0        0        0.0        inf  \n",
       "379757     0     0     0        0        0        0.0        inf  \n",
       "388824     0     0     0        0        0        0.0        inf  \n",
       "\n",
       "[5 rows x 40 columns]"
      ]
     },
     "execution_count": 11,
     "metadata": {},
     "output_type": "execute_result"
    }
   ],
   "source": [
    "df[df.avg_speed == float('inf')].head()"
   ]
  },
  {
   "cell_type": "markdown",
   "metadata": {},
   "source": [
    "### Delete the rows that have inf avg_speed."
   ]
  },
  {
   "cell_type": "code",
   "execution_count": 12,
   "metadata": {},
   "outputs": [],
   "source": [
    "df = df[df.avg_speed != float('inf')]"
   ]
  },
  {
   "cell_type": "markdown",
   "metadata": {},
   "source": [
    "### Drop the rows that have NAN avg_speed."
   ]
  },
  {
   "cell_type": "code",
   "execution_count": 13,
   "metadata": {},
   "outputs": [],
   "source": [
    "df.dropna(subset = ['avg_speed'], inplace = True)"
   ]
  },
  {
   "cell_type": "code",
   "execution_count": 14,
   "metadata": {},
   "outputs": [
    {
     "data": {
      "text/plain": [
       "6094857"
      ]
     },
     "execution_count": 14,
     "metadata": {},
     "output_type": "execute_result"
    }
   ],
   "source": [
    "# size of the df should match the count of the avg speed column\n",
    "len(df)"
   ]
  },
  {
   "cell_type": "code",
   "execution_count": 15,
   "metadata": {},
   "outputs": [
    {
     "data": {
      "text/plain": [
       "count    6.094857e+06\n",
       "mean     1.725925e+02\n",
       "std      3.858297e+05\n",
       "min     -1.809000e+03\n",
       "25%      7.309645e+00\n",
       "50%      1.005587e+01\n",
       "75%      1.381663e+01\n",
       "max      9.525240e+08\n",
       "Name: avg_speed, dtype: float64"
      ]
     },
     "execution_count": 15,
     "metadata": {},
     "output_type": "execute_result"
    }
   ],
   "source": [
    "df.avg_speed.describe()"
   ]
  },
  {
   "cell_type": "code",
   "execution_count": 16,
   "metadata": {},
   "outputs": [],
   "source": [
    "lower_speed, upper_speed = np.quantile(df.avg_speed, [.025, .975])"
   ]
  },
  {
   "cell_type": "code",
   "execution_count": 17,
   "metadata": {},
   "outputs": [
    {
     "data": {
      "text/plain": [
       "(3.432657926102504, 28.725065047701648)"
      ]
     },
     "execution_count": 17,
     "metadata": {},
     "output_type": "execute_result"
    }
   ],
   "source": [
    "lower_speed, upper_speed"
   ]
  },
  {
   "cell_type": "markdown",
   "metadata": {},
   "source": [
    "### Let's keep only the speeds that lay within 2 standard deviations to simulate taxi rides within the city."
   ]
  },
  {
   "cell_type": "code",
   "execution_count": 18,
   "metadata": {},
   "outputs": [],
   "source": [
    "df = df[(df.avg_speed >= lower_speed) & (df.avg_speed <= upper_speed)]"
   ]
  },
  {
   "cell_type": "code",
   "execution_count": 19,
   "metadata": {},
   "outputs": [
    {
     "data": {
      "text/plain": [
       "count    5.790100e+06\n",
       "mean     1.106771e+01\n",
       "std      4.967930e+00\n",
       "min      3.432790e+00\n",
       "25%      7.452229e+00\n",
       "50%      1.005587e+01\n",
       "75%      1.355155e+01\n",
       "max      2.872507e+01\n",
       "Name: avg_speed, dtype: float64"
      ]
     },
     "execution_count": 19,
     "metadata": {},
     "output_type": "execute_result"
    }
   ],
   "source": [
    "df.avg_speed.describe()"
   ]
  },
  {
   "cell_type": "code",
   "execution_count": 20,
   "metadata": {},
   "outputs": [
    {
     "data": {
      "image/png": "[encoded data removed]",
      "text/plain": [
       "<Figure size 432x288 with 1 Axes>"
      ]
     },
     "metadata": {
      "needs_background": "light"
     },
     "output_type": "display_data"
    },
    {
     "data": {
      "image/png": "[encoded data removed]",
      "text/plain": [
       "<Figure size 432x288 with 1 Axes>"
      ]
     },
     "metadata": {
      "needs_background": "light"
     },
     "output_type": "display_data"
    },
    {
     "data": {
      "image/png": "[encoded data removed]",
      "text/plain": [
       "<Figure size 432x288 with 1 Axes>"
      ]
     },
     "metadata": {
      "needs_background": "light"
     },
     "output_type": "display_data"
    }
   ],
   "source": [
    "sns.distplot(df.avg_speed)\n",
    "plt.title('Avg Speed')\n",
    "plt.show()\n",
    "sns.distplot(df.trip_time)\n",
    "plt.title('Trip Times')\n",
    "plt.show()\n",
    "sns.distplot(df.trip_distance)\n",
    "plt.title('Trip Distances')\n",
    "plt.show()"
   ]
  },
  {
   "cell_type": "markdown",
   "metadata": {},
   "source": [
    "The distributions of trip times and distances have a heavy right skew which seems expected but the values do not seem to be outrageous.  We would expect the majority of taxi rides in NYC to be of short distances.  The distribution of the average speeds also has a slight right skew"
   ]
  },
  {
   "cell_type": "markdown",
   "metadata": {},
   "source": [
    "## Explore some more of the columns"
   ]
  },
  {
   "cell_type": "code",
   "execution_count": 21,
   "metadata": {},
   "outputs": [
    {
     "data": {
      "text/plain": [
       "Index(['VendorID', 'pickup', 'tpep_dropoff_datetime', 'passenger_count',\n",
       "       'trip_distance', 'pickup_longitude', 'pickup_latitude', 'RatecodeID',\n",
       "       'store_and_fwd_flag', 'dropoff_longitude', 'dropoff_latitude',\n",
       "       'payment_type', 'fare_amount', 'extra', 'mta_tax', 'tip_amount',\n",
       "       'tolls_amount', 'improvement_surcharge', 'total_amount', 'PULocationID',\n",
       "       'DOLocationID', 'tempm', 'dewptm', 'hum', 'wspdi', 'wgusti', 'visi',\n",
       "       'pressurem', 'windchillm', 'heatindexm', 'precipm', 'conds', 'fog',\n",
       "       'rain', 'snow', 'hail', 'thunder', 'tornado', 'trip_time', 'avg_speed'],\n",
       "      dtype='object')"
      ]
     },
     "execution_count": 21,
     "metadata": {},
     "output_type": "execute_result"
    }
   ],
   "source": [
    "df.columns"
   ]
  },
  {
   "cell_type": "code",
   "execution_count": 22,
   "metadata": {},
   "outputs": [
    {
     "data": {
      "text/plain": [
       "1    5790100\n",
       "Name: VendorID, dtype: int64"
      ]
     },
     "execution_count": 22,
     "metadata": {},
     "output_type": "execute_result"
    }
   ],
   "source": [
    "df.VendorID.value_counts()"
   ]
  },
  {
   "cell_type": "code",
   "execution_count": 23,
   "metadata": {},
   "outputs": [
    {
     "data": {
      "text/plain": [
       "1    4688251\n",
       "2     785958\n",
       "3     200417\n",
       "4     111098\n",
       "5       3120\n",
       "6       1207\n",
       "0         43\n",
       "7          4\n",
       "9          2\n",
       "Name: passenger_count, dtype: int64"
      ]
     },
     "execution_count": 23,
     "metadata": {},
     "output_type": "execute_result"
    }
   ],
   "source": [
    "df.passenger_count.value_counts()"
   ]
  },
  {
   "cell_type": "code",
   "execution_count": 24,
   "metadata": {},
   "outputs": [
    {
     "data": {
      "text/plain": [
       "1     5694395\n",
       "2       82539\n",
       "5        6132\n",
       "3        5728\n",
       "4        1227\n",
       "99         64\n",
       "6          15\n",
       "Name: RatecodeID, dtype: int64"
      ]
     },
     "execution_count": 24,
     "metadata": {},
     "output_type": "execute_result"
    }
   ],
   "source": [
    "df.RatecodeID.value_counts()"
   ]
  },
  {
   "cell_type": "code",
   "execution_count": 25,
   "metadata": {},
   "outputs": [
    {
     "data": {
      "text/plain": [
       "N    5722143\n",
       "Y      67957\n",
       "Name: store_and_fwd_flag, dtype: int64"
      ]
     },
     "execution_count": 25,
     "metadata": {},
     "output_type": "execute_result"
    }
   ],
   "source": [
    "df.store_and_fwd_flag.value_counts()"
   ]
  },
  {
   "cell_type": "code",
   "execution_count": 26,
   "metadata": {},
   "outputs": [
    {
     "data": {
      "text/plain": [
       "1    3824809\n",
       "2    1917572\n",
       "3      34608\n",
       "4      13111\n",
       "Name: payment_type, dtype: int64"
      ]
     },
     "execution_count": 26,
     "metadata": {},
     "output_type": "execute_result"
    }
   ],
   "source": [
    "df.payment_type.value_counts()"
   ]
  },
  {
   "cell_type": "code",
   "execution_count": 27,
   "metadata": {},
   "outputs": [
    {
     "data": {
      "text/plain": [
       "count    5.634997e+06\n",
       "mean     8.884866e+00\n",
       "std      2.019603e+00\n",
       "min      2.000000e-01\n",
       "25%      8.000000e+00\n",
       "50%      1.000000e+01\n",
       "75%      1.000000e+01\n",
       "max      1.000000e+01\n",
       "Name: visi, dtype: float64"
      ]
     },
     "execution_count": 27,
     "metadata": {},
     "output_type": "execute_result"
    }
   ],
   "source": [
    "df.visi.describe()"
   ]
  },
  {
   "cell_type": "code",
   "execution_count": 28,
   "metadata": {},
   "outputs": [
    {
     "data": {
      "text/plain": [
       "0    5531312\n",
       "1     258788\n",
       "Name: rain, dtype: int64"
      ]
     },
     "execution_count": 28,
     "metadata": {},
     "output_type": "execute_result"
    }
   ],
   "source": [
    "df.rain.value_counts()"
   ]
  },
  {
   "cell_type": "code",
   "execution_count": 29,
   "metadata": {},
   "outputs": [
    {
     "data": {
      "text/plain": [
       "0    5754626\n",
       "1      35474\n",
       "Name: snow, dtype: int64"
      ]
     },
     "execution_count": 29,
     "metadata": {},
     "output_type": "execute_result"
    }
   ],
   "source": [
    "df.snow.value_counts()"
   ]
  },
  {
   "cell_type": "code",
   "execution_count": 30,
   "metadata": {},
   "outputs": [
    {
     "data": {
      "text/plain": [
       "0    5790100\n",
       "Name: hail, dtype: int64"
      ]
     },
     "execution_count": 30,
     "metadata": {},
     "output_type": "execute_result"
    }
   ],
   "source": [
    "df.hail.value_counts()"
   ]
  },
  {
   "cell_type": "code",
   "execution_count": 31,
   "metadata": {},
   "outputs": [
    {
     "data": {
      "text/plain": [
       "0    5790100\n",
       "Name: tornado, dtype: int64"
      ]
     },
     "execution_count": 31,
     "metadata": {},
     "output_type": "execute_result"
    }
   ],
   "source": [
    "df.tornado.value_counts()"
   ]
  },
  {
   "cell_type": "code",
   "execution_count": 32,
   "metadata": {},
   "outputs": [
    {
     "data": {
      "text/plain": [
       "0    5790100\n",
       "Name: thunder, dtype: int64"
      ]
     },
     "execution_count": 32,
     "metadata": {},
     "output_type": "execute_result"
    }
   ],
   "source": [
    "df.thunder.value_counts()"
   ]
  },
  {
   "cell_type": "code",
   "execution_count": 33,
   "metadata": {},
   "outputs": [
    {
     "data": {
      "text/plain": [
       "0    5779466\n",
       "1      10634\n",
       "Name: fog, dtype: int64"
      ]
     },
     "execution_count": 33,
     "metadata": {},
     "output_type": "execute_result"
    }
   ],
   "source": [
    "df.fog.value_counts()"
   ]
  },
  {
   "cell_type": "code",
   "execution_count": 34,
   "metadata": {},
   "outputs": [
    {
     "data": {
      "text/plain": [
       "Clear                  2892717\n",
       "Overcast               1338550\n",
       "Mostly Cloudy           403926\n",
       "Partly Cloudy           331827\n",
       "Scattered Clouds        220456\n",
       "Light Rain              201309\n",
       "Unknown                 186675\n",
       "Haze                    120746\n",
       "Rain                     38571\n",
       "Light Snow               27674\n",
       "Heavy Rain               16933\n",
       "Snow                      7539\n",
       "Light Freezing Rain       1975\n",
       "Fog                        941\n",
       "Heavy Snow                 261\n",
       "Name: conds, dtype: int64"
      ]
     },
     "execution_count": 34,
     "metadata": {},
     "output_type": "execute_result"
    }
   ],
   "source": [
    "df.conds.value_counts()"
   ]
  },
  {
   "cell_type": "code",
   "execution_count": 35,
   "metadata": {},
   "outputs": [
    {
     "data": {
      "text/plain": [
       "count    5.788217e+06\n",
       "mean     5.757377e+01\n",
       "std      1.942193e+01\n",
       "min      9.000000e+00\n",
       "25%      4.300000e+01\n",
       "50%      5.500000e+01\n",
       "75%      7.300000e+01\n",
       "max      1.000000e+02\n",
       "Name: hum, dtype: float64"
      ]
     },
     "execution_count": 35,
     "metadata": {},
     "output_type": "execute_result"
    }
   ],
   "source": [
    "df.hum.describe()"
   ]
  },
  {
   "cell_type": "markdown",
   "metadata": {},
   "source": [
    "### Drop the columns that do not seem to be of value.  \n",
    "### VendorID, store_and_fwd_flag, hail, tornado, thunder, tpep_dropoff_datetime"
   ]
  },
  {
   "cell_type": "code",
   "execution_count": 36,
   "metadata": {},
   "outputs": [],
   "source": [
    "df.drop(columns = ['VendorID', 'store_and_fwd_flag', 'hail', 'tornado', 'thunder', 'tpep_dropoff_datetime'], \n",
    "        inplace = True)"
   ]
  },
  {
   "cell_type": "code",
   "execution_count": 37,
   "metadata": {},
   "outputs": [
    {
     "data": {
      "text/plain": [
       "Index(['pickup', 'passenger_count', 'trip_distance', 'pickup_longitude',\n",
       "       'pickup_latitude', 'RatecodeID', 'dropoff_longitude',\n",
       "       'dropoff_latitude', 'payment_type', 'fare_amount', 'extra', 'mta_tax',\n",
       "       'tip_amount', 'tolls_amount', 'improvement_surcharge', 'total_amount',\n",
       "       'PULocationID', 'DOLocationID', 'tempm', 'dewptm', 'hum', 'wspdi',\n",
       "       'wgusti', 'visi', 'pressurem', 'windchillm', 'heatindexm', 'precipm',\n",
       "       'conds', 'fog', 'rain', 'snow', 'trip_time', 'avg_speed'],\n",
       "      dtype='object')"
      ]
     },
     "execution_count": 37,
     "metadata": {},
     "output_type": "execute_result"
    }
   ],
   "source": [
    "df.columns"
   ]
  },
  {
   "cell_type": "code",
   "execution_count": 38,
   "metadata": {},
   "outputs": [],
   "source": [
    "df = df[['pickup', 'trip_time', 'trip_distance', 'avg_speed', 'passenger_count', 'pickup_longitude',\n",
    "       'pickup_latitude', 'RatecodeID', 'dropoff_longitude',\n",
    "       'dropoff_latitude', 'PULocationID', 'DOLocationID', 'tempm', 'dewptm', 'hum', 'wspdi',\n",
    "       'wgusti', 'visi', 'pressurem', 'windchillm', 'heatindexm', 'precipm',\n",
    "       'conds', 'fog', 'rain', 'snow',  'payment_type', 'fare_amount', 'extra', 'mta_tax',\n",
    "       'tip_amount', 'tolls_amount', 'improvement_surcharge', 'total_amount']]"
   ]
  },
  {
   "cell_type": "code",
   "execution_count": 39,
   "metadata": {},
   "outputs": [
    {
     "data": {
      "text/html": [
       "<div>\n",
       "<style scoped>\n",
       "    .dataframe tbody tr th:only-of-type {\n",
       "        vertical-align: middle;\n",
       "    }\n",
       "\n",
       "    .dataframe tbody tr th {\n",
       "        vertical-align: top;\n",
       "    }\n",
       "\n",
       "    .dataframe thead th {\n",
       "        text-align: right;\n",
       "    }\n",
       "</style>\n",
       "<table border=\"1\" class=\"dataframe\">\n",
       "  <thead>\n",
       "    <tr style=\"text-align: right;\">\n",
       "      <th></th>\n",
       "      <th>pickup</th>\n",
       "      <th>trip_time</th>\n",
       "      <th>trip_distance</th>\n",
       "      <th>avg_speed</th>\n",
       "      <th>passenger_count</th>\n",
       "      <th>pickup_longitude</th>\n",
       "      <th>pickup_latitude</th>\n",
       "      <th>RatecodeID</th>\n",
       "      <th>dropoff_longitude</th>\n",
       "      <th>dropoff_latitude</th>\n",
       "      <th>...</th>\n",
       "      <th>rain</th>\n",
       "      <th>snow</th>\n",
       "      <th>payment_type</th>\n",
       "      <th>fare_amount</th>\n",
       "      <th>extra</th>\n",
       "      <th>mta_tax</th>\n",
       "      <th>tip_amount</th>\n",
       "      <th>tolls_amount</th>\n",
       "      <th>improvement_surcharge</th>\n",
       "      <th>total_amount</th>\n",
       "    </tr>\n",
       "  </thead>\n",
       "  <tbody>\n",
       "    <tr>\n",
       "      <td>0</td>\n",
       "      <td>2016-01-09 12:23:30</td>\n",
       "      <td>0.271667</td>\n",
       "      <td>1.7</td>\n",
       "      <td>6.257669</td>\n",
       "      <td>1</td>\n",
       "      <td>-74.001114</td>\n",
       "      <td>40.757141</td>\n",
       "      <td>1</td>\n",
       "      <td>-73.983444</td>\n",
       "      <td>40.758621</td>\n",
       "      <td>...</td>\n",
       "      <td>1</td>\n",
       "      <td>0</td>\n",
       "      <td>2</td>\n",
       "      <td>11.0</td>\n",
       "      <td>0.0</td>\n",
       "      <td>0.5</td>\n",
       "      <td>0.00</td>\n",
       "      <td>0.0</td>\n",
       "      <td>0.3</td>\n",
       "      <td>11.80</td>\n",
       "    </tr>\n",
       "    <tr>\n",
       "      <td>1</td>\n",
       "      <td>2016-01-09 12:54:35</td>\n",
       "      <td>0.065556</td>\n",
       "      <td>0.5</td>\n",
       "      <td>7.627119</td>\n",
       "      <td>1</td>\n",
       "      <td>-73.996094</td>\n",
       "      <td>40.743328</td>\n",
       "      <td>1</td>\n",
       "      <td>-73.991898</td>\n",
       "      <td>40.744148</td>\n",
       "      <td>...</td>\n",
       "      <td>1</td>\n",
       "      <td>0</td>\n",
       "      <td>2</td>\n",
       "      <td>4.5</td>\n",
       "      <td>0.0</td>\n",
       "      <td>0.5</td>\n",
       "      <td>0.00</td>\n",
       "      <td>0.0</td>\n",
       "      <td>0.3</td>\n",
       "      <td>5.30</td>\n",
       "    </tr>\n",
       "    <tr>\n",
       "      <td>2</td>\n",
       "      <td>2016-01-09 12:31:37</td>\n",
       "      <td>0.130278</td>\n",
       "      <td>1.1</td>\n",
       "      <td>8.443497</td>\n",
       "      <td>1</td>\n",
       "      <td>0.000000</td>\n",
       "      <td>0.000000</td>\n",
       "      <td>1</td>\n",
       "      <td>0.000000</td>\n",
       "      <td>0.000000</td>\n",
       "      <td>...</td>\n",
       "      <td>1</td>\n",
       "      <td>0</td>\n",
       "      <td>1</td>\n",
       "      <td>7.5</td>\n",
       "      <td>0.0</td>\n",
       "      <td>0.5</td>\n",
       "      <td>2.45</td>\n",
       "      <td>0.0</td>\n",
       "      <td>0.3</td>\n",
       "      <td>10.75</td>\n",
       "    </tr>\n",
       "    <tr>\n",
       "      <td>3</td>\n",
       "      <td>2016-01-09 12:31:20</td>\n",
       "      <td>0.143611</td>\n",
       "      <td>1.2</td>\n",
       "      <td>8.355899</td>\n",
       "      <td>3</td>\n",
       "      <td>-73.989899</td>\n",
       "      <td>40.737572</td>\n",
       "      <td>1</td>\n",
       "      <td>-73.997131</td>\n",
       "      <td>40.724930</td>\n",
       "      <td>...</td>\n",
       "      <td>1</td>\n",
       "      <td>0</td>\n",
       "      <td>1</td>\n",
       "      <td>7.0</td>\n",
       "      <td>0.0</td>\n",
       "      <td>0.5</td>\n",
       "      <td>1.55</td>\n",
       "      <td>0.0</td>\n",
       "      <td>0.3</td>\n",
       "      <td>9.35</td>\n",
       "    </tr>\n",
       "    <tr>\n",
       "      <td>4</td>\n",
       "      <td>2016-01-09 13:02:38</td>\n",
       "      <td>0.258333</td>\n",
       "      <td>3.1</td>\n",
       "      <td>12.000000</td>\n",
       "      <td>2</td>\n",
       "      <td>-73.972809</td>\n",
       "      <td>40.765129</td>\n",
       "      <td>1</td>\n",
       "      <td>-73.983253</td>\n",
       "      <td>40.730530</td>\n",
       "      <td>...</td>\n",
       "      <td>1</td>\n",
       "      <td>0</td>\n",
       "      <td>2</td>\n",
       "      <td>13.0</td>\n",
       "      <td>0.0</td>\n",
       "      <td>0.5</td>\n",
       "      <td>0.00</td>\n",
       "      <td>0.0</td>\n",
       "      <td>0.3</td>\n",
       "      <td>13.80</td>\n",
       "    </tr>\n",
       "  </tbody>\n",
       "</table>\n",
       "<p>5 rows × 34 columns</p>\n",
       "</div>"
      ],
      "text/plain": [
       "               pickup  trip_time  trip_distance  avg_speed  passenger_count  \\\n",
       "0 2016-01-09 12:23:30   0.271667            1.7   6.257669                1   \n",
       "1 2016-01-09 12:54:35   0.065556            0.5   7.627119                1   \n",
       "2 2016-01-09 12:31:37   0.130278            1.1   8.443497                1   \n",
       "3 2016-01-09 12:31:20   0.143611            1.2   8.355899                3   \n",
       "4 2016-01-09 13:02:38   0.258333            3.1  12.000000                2   \n",
       "\n",
       "   pickup_longitude  pickup_latitude  RatecodeID  dropoff_longitude  \\\n",
       "0        -74.001114        40.757141           1         -73.983444   \n",
       "1        -73.996094        40.743328           1         -73.991898   \n",
       "2          0.000000         0.000000           1           0.000000   \n",
       "3        -73.989899        40.737572           1         -73.997131   \n",
       "4        -73.972809        40.765129           1         -73.983253   \n",
       "\n",
       "   dropoff_latitude  ...  rain  snow  payment_type  fare_amount  extra  \\\n",
       "0         40.758621  ...     1     0             2         11.0    0.0   \n",
       "1         40.744148  ...     1     0             2          4.5    0.0   \n",
       "2          0.000000  ...     1     0             1          7.5    0.0   \n",
       "3         40.724930  ...     1     0             1          7.0    0.0   \n",
       "4         40.730530  ...     1     0             2         13.0    0.0   \n",
       "\n",
       "   mta_tax  tip_amount  tolls_amount  improvement_surcharge  total_amount  \n",
       "0      0.5        0.00           0.0                    0.3         11.80  \n",
       "1      0.5        0.00           0.0                    0.3          5.30  \n",
       "2      0.5        2.45           0.0                    0.3         10.75  \n",
       "3      0.5        1.55           0.0                    0.3          9.35  \n",
       "4      0.5        0.00           0.0                    0.3         13.80  \n",
       "\n",
       "[5 rows x 34 columns]"
      ]
     },
     "execution_count": 39,
     "metadata": {},
     "output_type": "execute_result"
    }
   ],
   "source": [
    "df.head()"
   ]
  },
  {
   "cell_type": "code",
   "execution_count": 40,
   "metadata": {},
   "outputs": [
    {
     "data": {
      "text/plain": [
       "3094027"
      ]
     },
     "execution_count": 40,
     "metadata": {},
     "output_type": "execute_result"
    }
   ],
   "source": [
    "df.dropoff_longitude.count()"
   ]
  },
  {
   "cell_type": "code",
   "execution_count": 41,
   "metadata": {},
   "outputs": [
    {
     "data": {
      "text/plain": [
       "2696073"
      ]
     },
     "execution_count": 41,
     "metadata": {},
     "output_type": "execute_result"
    }
   ],
   "source": [
    "df.PULocationID.count()"
   ]
  },
  {
   "cell_type": "code",
   "execution_count": 42,
   "metadata": {},
   "outputs": [
    {
     "data": {
      "text/plain": [
       "5790100"
      ]
     },
     "execution_count": 42,
     "metadata": {},
     "output_type": "execute_result"
    }
   ],
   "source": [
    "len(df)"
   ]
  },
  {
   "cell_type": "markdown",
   "metadata": {},
   "source": [
    "### Since the longitutde/latitude info and the LocationID do not show up in the dataset at the same dates, we decided to exclude it from this analysis."
   ]
  },
  {
   "cell_type": "code",
   "execution_count": 43,
   "metadata": {},
   "outputs": [],
   "source": [
    "df.drop(columns = ['pickup_longitude', 'pickup_latitude', 'dropoff_longitude', 'dropoff_latitude', \n",
    "                   'PULocationID', 'DOLocationID'], inplace = True)"
   ]
  },
  {
   "cell_type": "code",
   "execution_count": 44,
   "metadata": {},
   "outputs": [
    {
     "data": {
      "text/plain": [
       "Index(['pickup', 'trip_time', 'trip_distance', 'avg_speed', 'passenger_count',\n",
       "       'RatecodeID', 'tempm', 'dewptm', 'hum', 'wspdi', 'wgusti', 'visi',\n",
       "       'pressurem', 'windchillm', 'heatindexm', 'precipm', 'conds', 'fog',\n",
       "       'rain', 'snow', 'payment_type', 'fare_amount', 'extra', 'mta_tax',\n",
       "       'tip_amount', 'tolls_amount', 'improvement_surcharge', 'total_amount'],\n",
       "      dtype='object')"
      ]
     },
     "execution_count": 44,
     "metadata": {},
     "output_type": "execute_result"
    }
   ],
   "source": [
    "df.columns"
   ]
  },
  {
   "cell_type": "markdown",
   "metadata": {},
   "source": [
    "### Let's also create a tip_p column for the tip as a percentage of the total charge."
   ]
  },
  {
   "cell_type": "code",
   "execution_count": 45,
   "metadata": {},
   "outputs": [
    {
     "data": {
      "text/html": [
       "<div>\n",
       "<style scoped>\n",
       "    .dataframe tbody tr th:only-of-type {\n",
       "        vertical-align: middle;\n",
       "    }\n",
       "\n",
       "    .dataframe tbody tr th {\n",
       "        vertical-align: top;\n",
       "    }\n",
       "\n",
       "    .dataframe thead th {\n",
       "        text-align: right;\n",
       "    }\n",
       "</style>\n",
       "<table border=\"1\" class=\"dataframe\">\n",
       "  <thead>\n",
       "    <tr style=\"text-align: right;\">\n",
       "      <th></th>\n",
       "      <th>fare_amount</th>\n",
       "      <th>extra</th>\n",
       "      <th>mta_tax</th>\n",
       "      <th>tip_amount</th>\n",
       "      <th>tolls_amount</th>\n",
       "      <th>improvement_surcharge</th>\n",
       "      <th>total_amount</th>\n",
       "    </tr>\n",
       "  </thead>\n",
       "  <tbody>\n",
       "    <tr>\n",
       "      <td>0</td>\n",
       "      <td>11.0</td>\n",
       "      <td>0.0</td>\n",
       "      <td>0.5</td>\n",
       "      <td>0.00</td>\n",
       "      <td>0.0</td>\n",
       "      <td>0.3</td>\n",
       "      <td>11.80</td>\n",
       "    </tr>\n",
       "    <tr>\n",
       "      <td>1</td>\n",
       "      <td>4.5</td>\n",
       "      <td>0.0</td>\n",
       "      <td>0.5</td>\n",
       "      <td>0.00</td>\n",
       "      <td>0.0</td>\n",
       "      <td>0.3</td>\n",
       "      <td>5.30</td>\n",
       "    </tr>\n",
       "    <tr>\n",
       "      <td>2</td>\n",
       "      <td>7.5</td>\n",
       "      <td>0.0</td>\n",
       "      <td>0.5</td>\n",
       "      <td>2.45</td>\n",
       "      <td>0.0</td>\n",
       "      <td>0.3</td>\n",
       "      <td>10.75</td>\n",
       "    </tr>\n",
       "    <tr>\n",
       "      <td>3</td>\n",
       "      <td>7.0</td>\n",
       "      <td>0.0</td>\n",
       "      <td>0.5</td>\n",
       "      <td>1.55</td>\n",
       "      <td>0.0</td>\n",
       "      <td>0.3</td>\n",
       "      <td>9.35</td>\n",
       "    </tr>\n",
       "    <tr>\n",
       "      <td>4</td>\n",
       "      <td>13.0</td>\n",
       "      <td>0.0</td>\n",
       "      <td>0.5</td>\n",
       "      <td>0.00</td>\n",
       "      <td>0.0</td>\n",
       "      <td>0.3</td>\n",
       "      <td>13.80</td>\n",
       "    </tr>\n",
       "  </tbody>\n",
       "</table>\n",
       "</div>"
      ],
      "text/plain": [
       "   fare_amount  extra  mta_tax  tip_amount  tolls_amount  \\\n",
       "0         11.0    0.0      0.5        0.00           0.0   \n",
       "1          4.5    0.0      0.5        0.00           0.0   \n",
       "2          7.5    0.0      0.5        2.45           0.0   \n",
       "3          7.0    0.0      0.5        1.55           0.0   \n",
       "4         13.0    0.0      0.5        0.00           0.0   \n",
       "\n",
       "   improvement_surcharge  total_amount  \n",
       "0                    0.3         11.80  \n",
       "1                    0.3          5.30  \n",
       "2                    0.3         10.75  \n",
       "3                    0.3          9.35  \n",
       "4                    0.3         13.80  "
      ]
     },
     "execution_count": 45,
     "metadata": {},
     "output_type": "execute_result"
    }
   ],
   "source": [
    "df[['fare_amount', 'extra', 'mta_tax', 'tip_amount', 'tolls_amount', 'improvement_surcharge', 'total_amount']].head()"
   ]
  },
  {
   "cell_type": "code",
   "execution_count": 46,
   "metadata": {},
   "outputs": [],
   "source": [
    "df['tip_p'] = df.tip_amount / (df.fare_amount + df.extra + df.mta_tax + df.tolls_amount + df.improvement_surcharge)"
   ]
  },
  {
   "cell_type": "code",
   "execution_count": 47,
   "metadata": {},
   "outputs": [
    {
     "data": {
      "text/plain": [
       "count    5.790036e+06\n",
       "mean     1.256121e-01\n",
       "std      8.511526e-01\n",
       "min      0.000000e+00\n",
       "25%      0.000000e+00\n",
       "50%      1.530612e-01\n",
       "75%      1.992754e-01\n",
       "max      8.333333e+02\n",
       "Name: tip_p, dtype: float64"
      ]
     },
     "execution_count": 47,
     "metadata": {},
     "output_type": "execute_result"
    }
   ],
   "source": [
    "df.tip_p.describe()"
   ]
  },
  {
   "cell_type": "markdown",
   "metadata": {},
   "source": [
    "### There are some entries where the tip percentage is nan because the total amount charged is 0 and the tip is 0, so 0/0 gives us a nan value.  Since there is no tip or charge we can just replace these empty values with 0."
   ]
  },
  {
   "cell_type": "code",
   "execution_count": 48,
   "metadata": {},
   "outputs": [],
   "source": [
    "df.fillna(value = {'tip_p':0}, inplace = True)"
   ]
  },
  {
   "cell_type": "code",
   "execution_count": 49,
   "metadata": {},
   "outputs": [
    {
     "data": {
      "text/plain": [
       "count    5.790100e+06\n",
       "mean     1.256107e-01\n",
       "std      8.511480e-01\n",
       "min      0.000000e+00\n",
       "25%      0.000000e+00\n",
       "50%      1.530612e-01\n",
       "75%      1.992754e-01\n",
       "max      8.333333e+02\n",
       "Name: tip_p, dtype: float64"
      ]
     },
     "execution_count": 49,
     "metadata": {},
     "output_type": "execute_result"
    }
   ],
   "source": [
    "df.tip_p.describe()"
   ]
  },
  {
   "cell_type": "code",
   "execution_count": 50,
   "metadata": {},
   "outputs": [
    {
     "data": {
      "text/html": [
       "<div>\n",
       "<style scoped>\n",
       "    .dataframe tbody tr th:only-of-type {\n",
       "        vertical-align: middle;\n",
       "    }\n",
       "\n",
       "    .dataframe tbody tr th {\n",
       "        vertical-align: top;\n",
       "    }\n",
       "\n",
       "    .dataframe thead th {\n",
       "        text-align: right;\n",
       "    }\n",
       "</style>\n",
       "<table border=\"1\" class=\"dataframe\">\n",
       "  <thead>\n",
       "    <tr style=\"text-align: right;\">\n",
       "      <th></th>\n",
       "      <th>pickup</th>\n",
       "      <th>trip_time</th>\n",
       "      <th>trip_distance</th>\n",
       "      <th>avg_speed</th>\n",
       "      <th>passenger_count</th>\n",
       "      <th>RatecodeID</th>\n",
       "      <th>tempm</th>\n",
       "      <th>dewptm</th>\n",
       "      <th>hum</th>\n",
       "      <th>wspdi</th>\n",
       "      <th>...</th>\n",
       "      <th>snow</th>\n",
       "      <th>payment_type</th>\n",
       "      <th>fare_amount</th>\n",
       "      <th>extra</th>\n",
       "      <th>mta_tax</th>\n",
       "      <th>tip_amount</th>\n",
       "      <th>tolls_amount</th>\n",
       "      <th>improvement_surcharge</th>\n",
       "      <th>total_amount</th>\n",
       "      <th>tip_p</th>\n",
       "    </tr>\n",
       "  </thead>\n",
       "  <tbody>\n",
       "    <tr>\n",
       "      <td>0</td>\n",
       "      <td>2016-01-09 12:23:30</td>\n",
       "      <td>0.271667</td>\n",
       "      <td>1.7</td>\n",
       "      <td>6.257669</td>\n",
       "      <td>1</td>\n",
       "      <td>1</td>\n",
       "      <td>7.8</td>\n",
       "      <td>4.4</td>\n",
       "      <td>79.0</td>\n",
       "      <td>5.8</td>\n",
       "      <td>...</td>\n",
       "      <td>0</td>\n",
       "      <td>2</td>\n",
       "      <td>11.0</td>\n",
       "      <td>0.0</td>\n",
       "      <td>0.5</td>\n",
       "      <td>0.00</td>\n",
       "      <td>0.0</td>\n",
       "      <td>0.3</td>\n",
       "      <td>11.80</td>\n",
       "      <td>0.000000</td>\n",
       "    </tr>\n",
       "    <tr>\n",
       "      <td>1</td>\n",
       "      <td>2016-01-09 12:54:35</td>\n",
       "      <td>0.065556</td>\n",
       "      <td>0.5</td>\n",
       "      <td>7.627119</td>\n",
       "      <td>1</td>\n",
       "      <td>1</td>\n",
       "      <td>7.8</td>\n",
       "      <td>4.4</td>\n",
       "      <td>79.0</td>\n",
       "      <td>5.8</td>\n",
       "      <td>...</td>\n",
       "      <td>0</td>\n",
       "      <td>2</td>\n",
       "      <td>4.5</td>\n",
       "      <td>0.0</td>\n",
       "      <td>0.5</td>\n",
       "      <td>0.00</td>\n",
       "      <td>0.0</td>\n",
       "      <td>0.3</td>\n",
       "      <td>5.30</td>\n",
       "      <td>0.000000</td>\n",
       "    </tr>\n",
       "    <tr>\n",
       "      <td>2</td>\n",
       "      <td>2016-01-09 12:31:37</td>\n",
       "      <td>0.130278</td>\n",
       "      <td>1.1</td>\n",
       "      <td>8.443497</td>\n",
       "      <td>1</td>\n",
       "      <td>1</td>\n",
       "      <td>7.8</td>\n",
       "      <td>4.4</td>\n",
       "      <td>79.0</td>\n",
       "      <td>5.8</td>\n",
       "      <td>...</td>\n",
       "      <td>0</td>\n",
       "      <td>1</td>\n",
       "      <td>7.5</td>\n",
       "      <td>0.0</td>\n",
       "      <td>0.5</td>\n",
       "      <td>2.45</td>\n",
       "      <td>0.0</td>\n",
       "      <td>0.3</td>\n",
       "      <td>10.75</td>\n",
       "      <td>0.295181</td>\n",
       "    </tr>\n",
       "    <tr>\n",
       "      <td>3</td>\n",
       "      <td>2016-01-09 12:31:20</td>\n",
       "      <td>0.143611</td>\n",
       "      <td>1.2</td>\n",
       "      <td>8.355899</td>\n",
       "      <td>3</td>\n",
       "      <td>1</td>\n",
       "      <td>7.8</td>\n",
       "      <td>4.4</td>\n",
       "      <td>79.0</td>\n",
       "      <td>5.8</td>\n",
       "      <td>...</td>\n",
       "      <td>0</td>\n",
       "      <td>1</td>\n",
       "      <td>7.0</td>\n",
       "      <td>0.0</td>\n",
       "      <td>0.5</td>\n",
       "      <td>1.55</td>\n",
       "      <td>0.0</td>\n",
       "      <td>0.3</td>\n",
       "      <td>9.35</td>\n",
       "      <td>0.198718</td>\n",
       "    </tr>\n",
       "    <tr>\n",
       "      <td>4</td>\n",
       "      <td>2016-01-09 13:02:38</td>\n",
       "      <td>0.258333</td>\n",
       "      <td>3.1</td>\n",
       "      <td>12.000000</td>\n",
       "      <td>2</td>\n",
       "      <td>1</td>\n",
       "      <td>7.8</td>\n",
       "      <td>4.4</td>\n",
       "      <td>79.0</td>\n",
       "      <td>5.8</td>\n",
       "      <td>...</td>\n",
       "      <td>0</td>\n",
       "      <td>2</td>\n",
       "      <td>13.0</td>\n",
       "      <td>0.0</td>\n",
       "      <td>0.5</td>\n",
       "      <td>0.00</td>\n",
       "      <td>0.0</td>\n",
       "      <td>0.3</td>\n",
       "      <td>13.80</td>\n",
       "      <td>0.000000</td>\n",
       "    </tr>\n",
       "  </tbody>\n",
       "</table>\n",
       "<p>5 rows × 29 columns</p>\n",
       "</div>"
      ],
      "text/plain": [
       "               pickup  trip_time  trip_distance  avg_speed  passenger_count  \\\n",
       "0 2016-01-09 12:23:30   0.271667            1.7   6.257669                1   \n",
       "1 2016-01-09 12:54:35   0.065556            0.5   7.627119                1   \n",
       "2 2016-01-09 12:31:37   0.130278            1.1   8.443497                1   \n",
       "3 2016-01-09 12:31:20   0.143611            1.2   8.355899                3   \n",
       "4 2016-01-09 13:02:38   0.258333            3.1  12.000000                2   \n",
       "\n",
       "   RatecodeID  tempm  dewptm   hum  wspdi  ...  snow  payment_type  \\\n",
       "0           1    7.8     4.4  79.0    5.8  ...     0             2   \n",
       "1           1    7.8     4.4  79.0    5.8  ...     0             2   \n",
       "2           1    7.8     4.4  79.0    5.8  ...     0             1   \n",
       "3           1    7.8     4.4  79.0    5.8  ...     0             1   \n",
       "4           1    7.8     4.4  79.0    5.8  ...     0             2   \n",
       "\n",
       "   fare_amount  extra  mta_tax  tip_amount tolls_amount  \\\n",
       "0         11.0    0.0      0.5        0.00          0.0   \n",
       "1          4.5    0.0      0.5        0.00          0.0   \n",
       "2          7.5    0.0      0.5        2.45          0.0   \n",
       "3          7.0    0.0      0.5        1.55          0.0   \n",
       "4         13.0    0.0      0.5        0.00          0.0   \n",
       "\n",
       "   improvement_surcharge  total_amount     tip_p  \n",
       "0                    0.3         11.80  0.000000  \n",
       "1                    0.3          5.30  0.000000  \n",
       "2                    0.3         10.75  0.295181  \n",
       "3                    0.3          9.35  0.198718  \n",
       "4                    0.3         13.80  0.000000  \n",
       "\n",
       "[5 rows x 29 columns]"
      ]
     },
     "execution_count": 50,
     "metadata": {},
     "output_type": "execute_result"
    }
   ],
   "source": [
    "df.head()"
   ]
  },
  {
   "cell_type": "code",
   "execution_count": 51,
   "metadata": {},
   "outputs": [],
   "source": [
    "df.sort_values(by = ['pickup'], inplace = True)"
   ]
  },
  {
   "cell_type": "code",
   "execution_count": 52,
   "metadata": {},
   "outputs": [
    {
     "data": {
      "text/html": [
       "<div>\n",
       "<style scoped>\n",
       "    .dataframe tbody tr th:only-of-type {\n",
       "        vertical-align: middle;\n",
       "    }\n",
       "\n",
       "    .dataframe tbody tr th {\n",
       "        vertical-align: top;\n",
       "    }\n",
       "\n",
       "    .dataframe thead th {\n",
       "        text-align: right;\n",
       "    }\n",
       "</style>\n",
       "<table border=\"1\" class=\"dataframe\">\n",
       "  <thead>\n",
       "    <tr style=\"text-align: right;\">\n",
       "      <th></th>\n",
       "      <th>pickup</th>\n",
       "      <th>trip_time</th>\n",
       "      <th>trip_distance</th>\n",
       "      <th>avg_speed</th>\n",
       "      <th>passenger_count</th>\n",
       "      <th>RatecodeID</th>\n",
       "      <th>tempm</th>\n",
       "      <th>dewptm</th>\n",
       "      <th>hum</th>\n",
       "      <th>wspdi</th>\n",
       "      <th>...</th>\n",
       "      <th>snow</th>\n",
       "      <th>payment_type</th>\n",
       "      <th>fare_amount</th>\n",
       "      <th>extra</th>\n",
       "      <th>mta_tax</th>\n",
       "      <th>tip_amount</th>\n",
       "      <th>tolls_amount</th>\n",
       "      <th>improvement_surcharge</th>\n",
       "      <th>total_amount</th>\n",
       "      <th>tip_p</th>\n",
       "    </tr>\n",
       "  </thead>\n",
       "  <tbody>\n",
       "    <tr>\n",
       "      <td>6107593</td>\n",
       "      <td>2016-12-31 23:57:58</td>\n",
       "      <td>0.106389</td>\n",
       "      <td>0.6</td>\n",
       "      <td>5.639687</td>\n",
       "      <td>1</td>\n",
       "      <td>1</td>\n",
       "      <td>6.7</td>\n",
       "      <td>-4.4</td>\n",
       "      <td>45.0</td>\n",
       "      <td>4.6</td>\n",
       "      <td>...</td>\n",
       "      <td>0</td>\n",
       "      <td>2</td>\n",
       "      <td>6.0</td>\n",
       "      <td>0.5</td>\n",
       "      <td>0.5</td>\n",
       "      <td>0.0</td>\n",
       "      <td>0.0</td>\n",
       "      <td>0.3</td>\n",
       "      <td>7.3</td>\n",
       "      <td>0.000000</td>\n",
       "    </tr>\n",
       "    <tr>\n",
       "      <td>6108277</td>\n",
       "      <td>2016-12-31 23:58:05</td>\n",
       "      <td>0.081111</td>\n",
       "      <td>1.0</td>\n",
       "      <td>12.328767</td>\n",
       "      <td>1</td>\n",
       "      <td>1</td>\n",
       "      <td>6.7</td>\n",
       "      <td>-4.4</td>\n",
       "      <td>45.0</td>\n",
       "      <td>4.6</td>\n",
       "      <td>...</td>\n",
       "      <td>0</td>\n",
       "      <td>1</td>\n",
       "      <td>5.5</td>\n",
       "      <td>0.5</td>\n",
       "      <td>0.5</td>\n",
       "      <td>1.0</td>\n",
       "      <td>0.0</td>\n",
       "      <td>0.3</td>\n",
       "      <td>7.8</td>\n",
       "      <td>0.147059</td>\n",
       "    </tr>\n",
       "    <tr>\n",
       "      <td>6105331</td>\n",
       "      <td>2016-12-31 23:58:50</td>\n",
       "      <td>0.304444</td>\n",
       "      <td>3.0</td>\n",
       "      <td>9.854015</td>\n",
       "      <td>4</td>\n",
       "      <td>1</td>\n",
       "      <td>6.7</td>\n",
       "      <td>-4.4</td>\n",
       "      <td>45.0</td>\n",
       "      <td>4.6</td>\n",
       "      <td>...</td>\n",
       "      <td>0</td>\n",
       "      <td>2</td>\n",
       "      <td>14.0</td>\n",
       "      <td>0.5</td>\n",
       "      <td>0.5</td>\n",
       "      <td>0.0</td>\n",
       "      <td>0.0</td>\n",
       "      <td>0.3</td>\n",
       "      <td>15.3</td>\n",
       "      <td>0.000000</td>\n",
       "    </tr>\n",
       "    <tr>\n",
       "      <td>6107483</td>\n",
       "      <td>2016-12-31 23:59:25</td>\n",
       "      <td>0.053333</td>\n",
       "      <td>0.4</td>\n",
       "      <td>7.500000</td>\n",
       "      <td>1</td>\n",
       "      <td>1</td>\n",
       "      <td>6.7</td>\n",
       "      <td>-4.4</td>\n",
       "      <td>45.0</td>\n",
       "      <td>4.6</td>\n",
       "      <td>...</td>\n",
       "      <td>0</td>\n",
       "      <td>1</td>\n",
       "      <td>4.0</td>\n",
       "      <td>0.5</td>\n",
       "      <td>0.5</td>\n",
       "      <td>0.2</td>\n",
       "      <td>0.0</td>\n",
       "      <td>0.3</td>\n",
       "      <td>5.5</td>\n",
       "      <td>0.037736</td>\n",
       "    </tr>\n",
       "    <tr>\n",
       "      <td>6101737</td>\n",
       "      <td>2016-12-31 23:59:27</td>\n",
       "      <td>0.208056</td>\n",
       "      <td>1.9</td>\n",
       "      <td>9.132176</td>\n",
       "      <td>1</td>\n",
       "      <td>1</td>\n",
       "      <td>6.7</td>\n",
       "      <td>-4.4</td>\n",
       "      <td>45.0</td>\n",
       "      <td>4.6</td>\n",
       "      <td>...</td>\n",
       "      <td>0</td>\n",
       "      <td>1</td>\n",
       "      <td>10.0</td>\n",
       "      <td>0.5</td>\n",
       "      <td>0.5</td>\n",
       "      <td>2.5</td>\n",
       "      <td>0.0</td>\n",
       "      <td>0.3</td>\n",
       "      <td>13.8</td>\n",
       "      <td>0.221239</td>\n",
       "    </tr>\n",
       "  </tbody>\n",
       "</table>\n",
       "<p>5 rows × 29 columns</p>\n",
       "</div>"
      ],
      "text/plain": [
       "                     pickup  trip_time  trip_distance  avg_speed  \\\n",
       "6107593 2016-12-31 23:57:58   0.106389            0.6   5.639687   \n",
       "6108277 2016-12-31 23:58:05   0.081111            1.0  12.328767   \n",
       "6105331 2016-12-31 23:58:50   0.304444            3.0   9.854015   \n",
       "6107483 2016-12-31 23:59:25   0.053333            0.4   7.500000   \n",
       "6101737 2016-12-31 23:59:27   0.208056            1.9   9.132176   \n",
       "\n",
       "         passenger_count  RatecodeID  tempm  dewptm   hum  wspdi  ...  snow  \\\n",
       "6107593                1           1    6.7    -4.4  45.0    4.6  ...     0   \n",
       "6108277                1           1    6.7    -4.4  45.0    4.6  ...     0   \n",
       "6105331                4           1    6.7    -4.4  45.0    4.6  ...     0   \n",
       "6107483                1           1    6.7    -4.4  45.0    4.6  ...     0   \n",
       "6101737                1           1    6.7    -4.4  45.0    4.6  ...     0   \n",
       "\n",
       "         payment_type  fare_amount  extra  mta_tax  tip_amount tolls_amount  \\\n",
       "6107593             2          6.0    0.5      0.5         0.0          0.0   \n",
       "6108277             1          5.5    0.5      0.5         1.0          0.0   \n",
       "6105331             2         14.0    0.5      0.5         0.0          0.0   \n",
       "6107483             1          4.0    0.5      0.5         0.2          0.0   \n",
       "6101737             1         10.0    0.5      0.5         2.5          0.0   \n",
       "\n",
       "         improvement_surcharge  total_amount     tip_p  \n",
       "6107593                    0.3           7.3  0.000000  \n",
       "6108277                    0.3           7.8  0.147059  \n",
       "6105331                    0.3          15.3  0.000000  \n",
       "6107483                    0.3           5.5  0.037736  \n",
       "6101737                    0.3          13.8  0.221239  \n",
       "\n",
       "[5 rows x 29 columns]"
      ]
     },
     "execution_count": 52,
     "metadata": {},
     "output_type": "execute_result"
    }
   ],
   "source": [
    "df.tail()"
   ]
  },
  {
   "cell_type": "markdown",
   "metadata": {},
   "source": [
    "## We should convert the categorical variables into binary or dummy variables."
   ]
  },
  {
   "cell_type": "code",
   "execution_count": 53,
   "metadata": {},
   "outputs": [],
   "source": [
    "#create dummies for weather conditions\n",
    "dummy = pd.get_dummies(df.conds)"
   ]
  },
  {
   "cell_type": "code",
   "execution_count": 54,
   "metadata": {},
   "outputs": [],
   "source": [
    "df = pd.concat([df, dummy], axis = 1)"
   ]
  },
  {
   "cell_type": "code",
   "execution_count": 55,
   "metadata": {},
   "outputs": [],
   "source": [
    "df.rename(columns = {'Heavy Rain':'Heavy_Rain', 'Heavy Snow': 'Heavy_Snow', \n",
    "                     'Light Freezing Rain': 'Light_Freezing_Rain', 'Light Rain':'Light_Rain', \n",
    "                     'Light Snow':'Light_Snow', 'Mostly Cloudy':'Mostly_Cloudy', 'Partly Cloudy':'Partly_Cloudy', \n",
    "                     'Scattered Clouds':'Scattered_Clouds' }, inplace = True)"
   ]
  },
  {
   "cell_type": "code",
   "execution_count": 56,
   "metadata": {},
   "outputs": [],
   "source": [
    "#create dummies for payment type\n",
    "dummy = pd.get_dummies(df.payment_type)\n",
    "dummy.rename(columns = {1:'payment_type_1_creditcard', 2:'payment_type_2_cash', 3:'payment_type_3_nocharge', 4:'payment_type_4_dispute'}, inplace = True)\n"
   ]
  },
  {
   "cell_type": "code",
   "execution_count": 57,
   "metadata": {},
   "outputs": [],
   "source": [
    "df = pd.concat([df, dummy], axis = 1)"
   ]
  },
  {
   "cell_type": "code",
   "execution_count": 58,
   "metadata": {},
   "outputs": [],
   "source": [
    "df.drop(columns = ['payment_type'], inplace = True)"
   ]
  },
  {
   "cell_type": "code",
   "execution_count": 59,
   "metadata": {},
   "outputs": [],
   "source": [
    "#create dummy for rate codes\n",
    "dummy = pd.get_dummies(df.RatecodeID)\n",
    "dummy.rename(columns = {1:'ratecode_1', 2:'ratecode_2', 3:'ratecode_3', 4:'ratecode_4', 5:'ratecode_5', 6:'ratecode_6', 99:'ratecode_99'}, inplace = True)"
   ]
  },
  {
   "cell_type": "code",
   "execution_count": 60,
   "metadata": {},
   "outputs": [],
   "source": [
    "df = pd.concat([df, dummy], axis = 1)"
   ]
  },
  {
   "cell_type": "markdown",
   "metadata": {},
   "source": [
    "## From the pickup datetimes, let's extract more features such as the month and the day"
   ]
  },
  {
   "cell_type": "code",
   "execution_count": 61,
   "metadata": {},
   "outputs": [],
   "source": [
    "df['month'] = df.pickup.dt.month\n",
    "df['day'] = df.pickup.dt.day\n",
    "df['weekday'] = df.pickup.dt.dayofweek\n",
    "df['hour'] = df.pickup.dt.hour"
   ]
  },
  {
   "cell_type": "code",
   "execution_count": 65,
   "metadata": {},
   "outputs": [],
   "source": [
    "df.to_csv('capstone_data.csv', index = False)"
   ]
  }
 ],
 "metadata": {
  "kernelspec": {
   "display_name": "Python 3",
   "language": "python",
   "name": "python3"
  },
  "language_info": {
   "codemirror_mode": {
    "name": "ipython",
    "version": 3
   },
   "file_extension": ".py",
   "mimetype": "text/x-python",
   "name": "python",
   "nbconvert_exporter": "python",
   "pygments_lexer": "ipython3",
   "version": "3.7.3"
  }
 },
 "nbformat": 4,
 "nbformat_minor": 2
}
